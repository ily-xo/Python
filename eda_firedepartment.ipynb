{
  "nbformat": 4,
  "nbformat_minor": 0,
  "metadata": {
    "colab": {
      "provenance": [],
      "authorship_tag": "ABX9TyMasCdtXDSh07l0cUo2YLZv"
    },
    "kernelspec": {
      "name": "python3",
      "display_name": "Python 3"
    },
    "language_info": {
      "name": "python"
    }
  },
  "cells": [
    {
      "cell_type": "code",
      "execution_count": null,
      "metadata": {
        "colab": {
          "base_uri": "https://localhost:8080/"
        },
        "id": "NK5iumSoTegk",
        "outputId": "85e06056-1dd6-4de3-b32d-274095b64ef4"
      },
      "outputs": [
        {
          "output_type": "stream",
          "name": "stdout",
          "text": [
            "Date Range: ('01/01/2001', '12/31/2018')\n",
            "Neighborhoods Served by the Fire Department: ['Visitacion Valley' 'Bayview Hunters Point'\n",
            " 'Financial District/South Beach' 'Tenderloin' 'Mission' 'Sunset/Parkside'\n",
            " 'West of Twin Peaks' 'Western Addition' 'Lakeshore' 'Marina'\n",
            " 'Lone Mountain/USF' 'Glen Park' 'Hayes Valley' 'Outer Richmond'\n",
            " 'North Beach' 'Haight Ashbury' 'Russian Hill' 'South of Market'\n",
            " 'Mission Bay' 'Outer Mission' 'Pacific Heights' 'Nob Hill'\n",
            " 'Castro/Upper Market' 'Potrero Hill' 'Inner Richmond' 'Presidio Heights'\n",
            " 'Twin Peaks' 'Excelsior' 'Portola' 'Chinatown'\n",
            " 'Oceanview/Merced/Ingleside' 'Inner Sunset' 'Japantown' 'Noe Valley'\n",
            " 'Treasure Island' 'None' 'Bernal Heights' 'Golden Gate Park' 'Presidio'\n",
            " 'Seacliff' 'McLaren Park' 'Lincoln Park']\n",
            "Average Delay in 2019: 9.76714257964258 minutes\n",
            "99%-tile Delay in 2019: 38.2383333333333 minutes\n",
            "Calls per Year:\n",
            "2000    1589\n",
            "2001    2214\n",
            "2002    2261\n",
            "2003    2392\n",
            "2004    2395\n",
            "2005    2280\n",
            "2006    2394\n",
            "2007    2338\n",
            "2008    2629\n",
            "2009    2415\n",
            "2010    2533\n",
            "2011    2651\n",
            "2012    2694\n",
            "2013    2723\n",
            "2014    2886\n",
            "2015    2928\n",
            "2016    2998\n",
            "2017    3041\n",
            "2018    3090\n",
            "2019    2085\n",
            "Name: Call Date, dtype: int64\n"
          ]
        }
      ],
      "source": [
        "\n",
        "import pandas as pd\n",
        "\n",
        "data = pd.read_csv(\"Fire_Department.csv\")\n",
        "\n",
        "# 1. What are the date ranges for this dataset?\n",
        "date_ranges = (data['Call Date'].min(), data['Call Date'].max())\n",
        "print(\"Date Range:\", date_ranges)\n",
        "\n",
        "# 2. What are the neighborhoods the fire department serves?\n",
        "neighborhoods_served = data['Neighborhooods - Analysis Boundaries'].unique()\n",
        "print(\"Neighborhoods Served by the Fire Department:\", neighborhoods_served)\n",
        "\n",
        "# 3. What’s the average delay and 99%-tile delay for all calls in 2019?\n",
        "data['Call Date'] = pd.to_datetime(data['Call Date'])\n",
        "data['Received DtTm'] = pd.to_datetime(data['Received DtTm'])\n",
        "data['On Scene DtTm'] = pd.to_datetime(data['On Scene DtTm'])\n",
        "\n",
        "calls_2019 = data[data['Call Date'].dt.year == 2019]\n",
        "delay = (calls_2019['On Scene DtTm'] - calls_2019['Received DtTm']).dt.total_seconds() / 60\n",
        "average_delay_2019 = delay.mean()\n",
        "percentile_99_delay_2019 = delay.quantile(0.99)\n",
        "print(\"Average Delay in 2019:\", average_delay_2019, \"minutes\")\n",
        "print(\"99%-tile Delay in 2019:\", percentile_99_delay_2019, \"minutes\")\n",
        "\n",
        "# 4. Are the number of calls trending up or down on a year-over-year basis?\n",
        "data['Call Date'] = data['Call Date'].dt.year\n",
        "calls_per_year = data['Call Date'].value_counts().sort_index()\n",
        "print(\"Calls per Year:\")\n",
        "print(calls_per_year)\n",
        "\n",
        "# 5. What else do you find interesting in this dataset?\n",
        "# The delay time and average delay time, I believe I can further segment this dataset to see if delay time is region specific and if any factors correlate\n",
        "# For further exploration see #6\n",
        "\n"
      ]
    },
    {
      "cell_type": "code",
      "source": [
        "# 6. What is the most common call type in the dataset, and how many times does it occur?\n",
        "most_common_call_type = data['Call Type'].mode()[0]\n",
        "call_type_count = data['Call Type'].value_counts().max()\n",
        "print(\"Most Common Call Type:\", most_common_call_type)\n",
        "print(\"Occurrences:\", call_type_count)\n"
      ],
      "metadata": {
        "colab": {
          "base_uri": "https://localhost:8080/"
        },
        "id": "KV94-DoLVmXP",
        "outputId": "a5b4d2ae-0d9f-4819-8a76-cc76a558684b"
      },
      "execution_count": null,
      "outputs": [
        {
          "output_type": "stream",
          "name": "stdout",
          "text": [
            "Most Common Call Type: Medical Incident\n",
            "Occurrences: 32874\n"
          ]
        }
      ]
    }
  ]
}
